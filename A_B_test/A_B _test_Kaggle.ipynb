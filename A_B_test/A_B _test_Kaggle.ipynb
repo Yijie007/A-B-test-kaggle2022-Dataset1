{
 "cells": [
  {
   "cell_type": "code",
   "execution_count": null,
   "id": "252bcfa2",
   "metadata": {},
   "outputs": [],
   "source": []
  },
  {
   "cell_type": "code",
   "execution_count": 1,
   "id": "773c463e",
   "metadata": {},
   "outputs": [],
   "source": [
    "import pandas as pd\n",
    "\n",
    "\n",
    "ab_path = \"~/A_B_test/ecommerce_ab_testing_2022_dataset1/ab_data.csv\" \n",
    "country_path = \"~/A_B_test/ecommerce_ab_testing_2022_dataset1/countries.csv\" \n",
    "df = pd.read_csv(ab_path)\n",
    "countries = pd.read_csv(country_path)\n",
    "\n"
   ]
  },
  {
   "cell_type": "code",
   "execution_count": 2,
   "id": "179ec977",
   "metadata": {},
   "outputs": [
    {
     "name": "stdout",
     "output_type": "stream",
     "text": [
      "<class 'pandas.core.frame.DataFrame'>\n",
      "RangeIndex: 294480 entries, 0 to 294479\n",
      "Data columns (total 5 columns):\n",
      " #   Column        Non-Null Count   Dtype \n",
      "---  ------        --------------   ----- \n",
      " 0   user_id       294480 non-null  int64 \n",
      " 1   timestamp     294480 non-null  object\n",
      " 2   group         294480 non-null  object\n",
      " 3   landing_page  294480 non-null  object\n",
      " 4   converted     294480 non-null  int64 \n",
      "dtypes: int64(2), object(3)\n",
      "memory usage: 11.2+ MB\n",
      "None\n"
     ]
    }
   ],
   "source": [
    "print(df.info())"
   ]
  },
  {
   "cell_type": "code",
   "execution_count": 3,
   "id": "b47c7b22",
   "metadata": {},
   "outputs": [
    {
     "data": {
      "text/html": [
       "<div>\n",
       "<style scoped>\n",
       "    .dataframe tbody tr th:only-of-type {\n",
       "        vertical-align: middle;\n",
       "    }\n",
       "\n",
       "    .dataframe tbody tr th {\n",
       "        vertical-align: top;\n",
       "    }\n",
       "\n",
       "    .dataframe thead th {\n",
       "        text-align: right;\n",
       "    }\n",
       "</style>\n",
       "<table border=\"1\" class=\"dataframe\">\n",
       "  <thead>\n",
       "    <tr style=\"text-align: right;\">\n",
       "      <th></th>\n",
       "      <th>user_id</th>\n",
       "      <th>timestamp</th>\n",
       "      <th>group</th>\n",
       "      <th>landing_page</th>\n",
       "      <th>converted</th>\n",
       "    </tr>\n",
       "  </thead>\n",
       "  <tbody>\n",
       "    <tr>\n",
       "      <th>0</th>\n",
       "      <td>851104</td>\n",
       "      <td>11:48.6</td>\n",
       "      <td>control</td>\n",
       "      <td>old_page</td>\n",
       "      <td>0</td>\n",
       "    </tr>\n",
       "    <tr>\n",
       "      <th>1</th>\n",
       "      <td>804228</td>\n",
       "      <td>01:45.2</td>\n",
       "      <td>control</td>\n",
       "      <td>old_page</td>\n",
       "      <td>0</td>\n",
       "    </tr>\n",
       "    <tr>\n",
       "      <th>2</th>\n",
       "      <td>661590</td>\n",
       "      <td>55:06.2</td>\n",
       "      <td>treatment</td>\n",
       "      <td>new_page</td>\n",
       "      <td>0</td>\n",
       "    </tr>\n",
       "    <tr>\n",
       "      <th>3</th>\n",
       "      <td>853541</td>\n",
       "      <td>28:03.1</td>\n",
       "      <td>treatment</td>\n",
       "      <td>new_page</td>\n",
       "      <td>0</td>\n",
       "    </tr>\n",
       "    <tr>\n",
       "      <th>4</th>\n",
       "      <td>864975</td>\n",
       "      <td>52:26.2</td>\n",
       "      <td>control</td>\n",
       "      <td>old_page</td>\n",
       "      <td>1</td>\n",
       "    </tr>\n",
       "  </tbody>\n",
       "</table>\n",
       "</div>"
      ],
      "text/plain": [
       "   user_id timestamp      group landing_page  converted\n",
       "0   851104   11:48.6    control     old_page          0\n",
       "1   804228   01:45.2    control     old_page          0\n",
       "2   661590   55:06.2  treatment     new_page          0\n",
       "3   853541   28:03.1  treatment     new_page          0\n",
       "4   864975   52:26.2    control     old_page          1"
      ]
     },
     "execution_count": 3,
     "metadata": {},
     "output_type": "execute_result"
    }
   ],
   "source": [
    "df.head()"
   ]
  },
  {
   "cell_type": "code",
   "execution_count": 4,
   "id": "a6fcaecd",
   "metadata": {},
   "outputs": [
    {
     "data": {
      "text/html": [
       "<div>\n",
       "<style scoped>\n",
       "    .dataframe tbody tr th:only-of-type {\n",
       "        vertical-align: middle;\n",
       "    }\n",
       "\n",
       "    .dataframe tbody tr th {\n",
       "        vertical-align: top;\n",
       "    }\n",
       "\n",
       "    .dataframe thead th {\n",
       "        text-align: right;\n",
       "    }\n",
       "</style>\n",
       "<table border=\"1\" class=\"dataframe\">\n",
       "  <thead>\n",
       "    <tr style=\"text-align: right;\">\n",
       "      <th></th>\n",
       "      <th>user_id</th>\n",
       "      <th>country</th>\n",
       "    </tr>\n",
       "  </thead>\n",
       "  <tbody>\n",
       "    <tr>\n",
       "      <th>0</th>\n",
       "      <td>834778</td>\n",
       "      <td>UK</td>\n",
       "    </tr>\n",
       "    <tr>\n",
       "      <th>1</th>\n",
       "      <td>928468</td>\n",
       "      <td>US</td>\n",
       "    </tr>\n",
       "    <tr>\n",
       "      <th>2</th>\n",
       "      <td>822059</td>\n",
       "      <td>UK</td>\n",
       "    </tr>\n",
       "    <tr>\n",
       "      <th>3</th>\n",
       "      <td>711597</td>\n",
       "      <td>UK</td>\n",
       "    </tr>\n",
       "    <tr>\n",
       "      <th>4</th>\n",
       "      <td>710616</td>\n",
       "      <td>UK</td>\n",
       "    </tr>\n",
       "  </tbody>\n",
       "</table>\n",
       "</div>"
      ],
      "text/plain": [
       "   user_id country\n",
       "0   834778      UK\n",
       "1   928468      US\n",
       "2   822059      UK\n",
       "3   711597      UK\n",
       "4   710616      UK"
      ]
     },
     "execution_count": 4,
     "metadata": {},
     "output_type": "execute_result"
    }
   ],
   "source": [
    "countries.head()"
   ]
  },
  {
   "cell_type": "markdown",
   "id": "1d99be58",
   "metadata": {},
   "source": [
    "## Cleaning_ab_test_file"
   ]
  },
  {
   "cell_type": "code",
   "execution_count": 5,
   "id": "dd8a23c3",
   "metadata": {},
   "outputs": [
    {
     "data": {
      "text/plain": [
       "3895"
      ]
     },
     "execution_count": 5,
     "metadata": {},
     "output_type": "execute_result"
    }
   ],
   "source": [
    "# check wether there are duplicate user_id\n",
    "df.duplicated(subset='user_id').sum()"
   ]
  },
  {
   "cell_type": "code",
   "execution_count": 6,
   "id": "f55ba13f",
   "metadata": {},
   "outputs": [
    {
     "name": "stdout",
     "output_type": "stream",
     "text": [
      "<class 'pandas.core.frame.DataFrame'>\n",
      "Int64Index: 290585 entries, 0 to 294479\n",
      "Data columns (total 5 columns):\n",
      " #   Column        Non-Null Count   Dtype \n",
      "---  ------        --------------   ----- \n",
      " 0   user_id       290585 non-null  int64 \n",
      " 1   timestamp     290585 non-null  object\n",
      " 2   group         290585 non-null  object\n",
      " 3   landing_page  290585 non-null  object\n",
      " 4   converted     290585 non-null  int64 \n",
      "dtypes: int64(2), object(3)\n",
      "memory usage: 13.3+ MB\n",
      "None\n",
      "after cleaning： 290585\n"
     ]
    }
   ],
   "source": [
    "# clean dup_id, leave the first record\n",
    "df_clean = df.drop_duplicates(subset='user_id', keep='first')\n",
    "\n",
    "print(df_clean.info())\n",
    "print(\"after cleaning：\", df_clean.shape[0])\n"
   ]
  },
  {
   "cell_type": "markdown",
   "id": "25b3d932",
   "metadata": {},
   "source": []
  },
  {
   "cell_type": "code",
   "execution_count": 7,
   "id": "0816b552",
   "metadata": {
    "scrolled": true
   },
   "outputs": [
    {
     "data": {
      "text/plain": [
       "group      landing_page\n",
       "control    old_page        144226\n",
       "           new_page          1006\n",
       "treatment  new_page        144315\n",
       "           old_page          1038\n",
       "Name: landing_page, dtype: int64"
      ]
     },
     "execution_count": 7,
     "metadata": {},
     "output_type": "execute_result"
    }
   ],
   "source": [
    "## check group vs landing_page is matched\n",
    "#treatment - new,control - old\n",
    "df_clean.groupby('group')['landing_page'].value_counts()"
   ]
  },
  {
   "cell_type": "code",
   "execution_count": 8,
   "id": "aa63a9a1",
   "metadata": {},
   "outputs": [
    {
     "name": "stdout",
     "output_type": "stream",
     "text": [
      "group      landing_page\n",
      "control    old_page        144226\n",
      "treatment  new_page        144315\n",
      "Name: landing_page, dtype: int64\n",
      "after 2nd cleaning： 288541\n"
     ]
    }
   ],
   "source": [
    "df_clean = df_clean[((df_clean['group'] == 'control') & (df_clean['landing_page'] == 'old_page')) |\n",
    "                    ((df_clean['group'] == 'treatment') & (df_clean['landing_page'] == 'new_page'))]\n",
    "\n",
    "\n",
    "print(df_clean.groupby('group')['landing_page'].value_counts())\n",
    "print(\"after 2nd cleaning：\", df_clean.shape[0])"
   ]
  },
  {
   "cell_type": "code",
   "execution_count": 9,
   "id": "b94fcebe",
   "metadata": {},
   "outputs": [
    {
     "name": "stdout",
     "output_type": "stream",
     "text": [
      "control_conversion: 0.1203\n",
      "treatment_conversion: 0.1187\n"
     ]
    }
   ],
   "source": [
    "control_conversion = df_clean[df_clean['group'] == 'control']['converted'].mean()\n",
    "treatment_conversion = df_clean[df_clean['group'] == 'treatment']['converted'].mean()\n",
    "\n",
    "print(f\"control_conversion: {control_conversion:.4f}\")\n",
    "print(f\"treatment_conversion: {treatment_conversion:.4f}\")"
   ]
  },
  {
   "cell_type": "markdown",
   "id": "18371607",
   "metadata": {},
   "source": [
    "## **Statistical Significance Test (Z-Test)**\n",
    "use a **Z-Test** to calculate the **p-value**:\n",
    "\n",
    "- **Null Hypothesis (H₀)**: The conversion rate of the new page **equals** the conversion rate of the old page (no difference).  \n",
    "- **Alternative Hypothesis (H₁)**: The conversion rate of the new page **is different** from the conversion rate of the old page (there is a significant difference).  \n",
    "- **If p-value < 0.05** → The difference in conversion rates is **statistically significant**.  \n",
    "- **If p-value ≥ 0.05** → The difference in conversion rates is **not statistically significant** (it could be due to random variation).  \n",
    "reason: samples> 30 and binomial distribution"
   ]
  },
  {
   "cell_type": "code",
   "execution_count": 10,
   "id": "084a92e4",
   "metadata": {},
   "outputs": [],
   "source": [
    "#pip install statsmodels"
   ]
  },
  {
   "cell_type": "code",
   "execution_count": 11,
   "id": "5375ae30",
   "metadata": {},
   "outputs": [
    {
     "name": "stdout",
     "output_type": "stream",
     "text": [
      "Z-statistic: -1.2949\n",
      "P-value: 0.1953\n"
     ]
    }
   ],
   "source": [
    "from statsmodels.stats.proportion import proportions_ztest\n",
    "\n",
    "# success user\n",
    "control_success = df_clean[df_clean['group'] == 'control']['converted'].sum()\n",
    "treatment_success = df_clean[df_clean['group'] == 'treatment']['converted'].sum()\n",
    "\n",
    "control_size = df_clean[df_clean['group'] == 'control'].shape[0]\n",
    "treatment_size = df_clean[df_clean['group'] == 'treatment'].shape[0]\n",
    "\n",
    "# z test\n",
    "z_stat, p_value = proportions_ztest([treatment_success, control_success], [treatment_size, control_size])\n",
    "\n",
    "\n",
    "print(f\"Z-statistic: {z_stat:.4f}\")\n",
    "print(f\"P-value: {p_value:.4f}\")\n"
   ]
  },
  {
   "cell_type": "markdown",
   "id": "52ee03a5",
   "metadata": {},
   "source": [
    " ### there is no statistically significant difference between the conversion rates of the new and old pages"
   ]
  },
  {
   "cell_type": "markdown",
   "id": "c723aca7",
   "metadata": {},
   "source": [
    "# Apply logistic regression, add more features "
   ]
  },
  {
   "cell_type": "code",
   "execution_count": 12,
   "id": "ca676a9c",
   "metadata": {},
   "outputs": [
    {
     "name": "stdout",
     "output_type": "stream",
     "text": [
      "Optimization terminated successfully.\n",
      "         Current function value: 0.365941\n",
      "         Iterations 6\n",
      "                           Logit Regression Results                           \n",
      "==============================================================================\n",
      "Dep. Variable:              converted   No. Observations:               288541\n",
      "Model:                          Logit   Df Residuals:                   288539\n",
      "Method:                           MLE   Df Model:                            1\n",
      "Date:                Wed, 19 Mar 2025   Pseudo R-squ.:               7.940e-06\n",
      "Time:                        16:48:10   Log-Likelihood:            -1.0559e+05\n",
      "converged:                       True   LL-Null:                   -1.0559e+05\n",
      "Covariance Type:            nonrobust   LLR p-value:                    0.1953\n",
      "=================================================================================\n",
      "                    coef    std err          z      P>|z|      [0.025      0.975]\n",
      "---------------------------------------------------------------------------------\n",
      "const            -1.9897      0.008   -245.805      0.000      -2.006      -1.974\n",
      "group_numeric    -0.0149      0.011     -1.295      0.195      -0.037       0.008\n",
      "=================================================================================\n"
     ]
    }
   ],
   "source": [
    "import statsmodels.api as sm\n",
    "\n",
    "# X: only select group\n",
    "df_clean['group_numeric'] = df_clean['group'].apply(lambda x: 1 if x == 'treatment' else 0)\n",
    "X = df_clean[['group_numeric']]\n",
    "X = sm.add_constant(X)  \n",
    "\n",
    "# Y\n",
    "y = df_clean['converted']\n",
    "\n",
    "logit_model = sm.Logit(y, X).fit()\n",
    "print(logit_model.summary())\n",
    "#p value 0.195 same as ABtest"
   ]
  },
  {
   "cell_type": "code",
   "execution_count": 13,
   "id": "c705807c",
   "metadata": {},
   "outputs": [
    {
     "data": {
      "text/html": [
       "<div>\n",
       "<style scoped>\n",
       "    .dataframe tbody tr th:only-of-type {\n",
       "        vertical-align: middle;\n",
       "    }\n",
       "\n",
       "    .dataframe tbody tr th {\n",
       "        vertical-align: top;\n",
       "    }\n",
       "\n",
       "    .dataframe thead th {\n",
       "        text-align: right;\n",
       "    }\n",
       "</style>\n",
       "<table border=\"1\" class=\"dataframe\">\n",
       "  <thead>\n",
       "    <tr style=\"text-align: right;\">\n",
       "      <th></th>\n",
       "      <th>user_id</th>\n",
       "      <th>timestamp</th>\n",
       "      <th>group</th>\n",
       "      <th>landing_page</th>\n",
       "      <th>converted</th>\n",
       "      <th>group_numeric</th>\n",
       "      <th>country</th>\n",
       "    </tr>\n",
       "  </thead>\n",
       "  <tbody>\n",
       "    <tr>\n",
       "      <th>0</th>\n",
       "      <td>851104</td>\n",
       "      <td>11:48.6</td>\n",
       "      <td>control</td>\n",
       "      <td>old_page</td>\n",
       "      <td>0</td>\n",
       "      <td>0</td>\n",
       "      <td>US</td>\n",
       "    </tr>\n",
       "    <tr>\n",
       "      <th>1</th>\n",
       "      <td>804228</td>\n",
       "      <td>01:45.2</td>\n",
       "      <td>control</td>\n",
       "      <td>old_page</td>\n",
       "      <td>0</td>\n",
       "      <td>0</td>\n",
       "      <td>US</td>\n",
       "    </tr>\n",
       "    <tr>\n",
       "      <th>2</th>\n",
       "      <td>661590</td>\n",
       "      <td>55:06.2</td>\n",
       "      <td>treatment</td>\n",
       "      <td>new_page</td>\n",
       "      <td>0</td>\n",
       "      <td>1</td>\n",
       "      <td>US</td>\n",
       "    </tr>\n",
       "    <tr>\n",
       "      <th>3</th>\n",
       "      <td>853541</td>\n",
       "      <td>28:03.1</td>\n",
       "      <td>treatment</td>\n",
       "      <td>new_page</td>\n",
       "      <td>0</td>\n",
       "      <td>1</td>\n",
       "      <td>US</td>\n",
       "    </tr>\n",
       "    <tr>\n",
       "      <th>4</th>\n",
       "      <td>864975</td>\n",
       "      <td>52:26.2</td>\n",
       "      <td>control</td>\n",
       "      <td>old_page</td>\n",
       "      <td>1</td>\n",
       "      <td>0</td>\n",
       "      <td>US</td>\n",
       "    </tr>\n",
       "    <tr>\n",
       "      <th>...</th>\n",
       "      <td>...</td>\n",
       "      <td>...</td>\n",
       "      <td>...</td>\n",
       "      <td>...</td>\n",
       "      <td>...</td>\n",
       "      <td>...</td>\n",
       "      <td>...</td>\n",
       "    </tr>\n",
       "    <tr>\n",
       "      <th>288537</th>\n",
       "      <td>945152</td>\n",
       "      <td>51:57.1</td>\n",
       "      <td>control</td>\n",
       "      <td>old_page</td>\n",
       "      <td>0</td>\n",
       "      <td>0</td>\n",
       "      <td>US</td>\n",
       "    </tr>\n",
       "    <tr>\n",
       "      <th>288538</th>\n",
       "      <td>734608</td>\n",
       "      <td>45:03.4</td>\n",
       "      <td>control</td>\n",
       "      <td>old_page</td>\n",
       "      <td>0</td>\n",
       "      <td>0</td>\n",
       "      <td>US</td>\n",
       "    </tr>\n",
       "    <tr>\n",
       "      <th>288539</th>\n",
       "      <td>697314</td>\n",
       "      <td>20:29.0</td>\n",
       "      <td>control</td>\n",
       "      <td>old_page</td>\n",
       "      <td>0</td>\n",
       "      <td>0</td>\n",
       "      <td>US</td>\n",
       "    </tr>\n",
       "    <tr>\n",
       "      <th>288540</th>\n",
       "      <td>715931</td>\n",
       "      <td>40:24.5</td>\n",
       "      <td>treatment</td>\n",
       "      <td>new_page</td>\n",
       "      <td>0</td>\n",
       "      <td>1</td>\n",
       "      <td>UK</td>\n",
       "    </tr>\n",
       "    <tr>\n",
       "      <th>288541</th>\n",
       "      <td>643532</td>\n",
       "      <td>40:24.5</td>\n",
       "      <td>treatment</td>\n",
       "      <td>new_page</td>\n",
       "      <td>0</td>\n",
       "      <td>1</td>\n",
       "      <td>US</td>\n",
       "    </tr>\n",
       "  </tbody>\n",
       "</table>\n",
       "<p>288542 rows × 7 columns</p>\n",
       "</div>"
      ],
      "text/plain": [
       "        user_id timestamp      group landing_page  converted  group_numeric  \\\n",
       "0        851104   11:48.6    control     old_page          0              0   \n",
       "1        804228   01:45.2    control     old_page          0              0   \n",
       "2        661590   55:06.2  treatment     new_page          0              1   \n",
       "3        853541   28:03.1  treatment     new_page          0              1   \n",
       "4        864975   52:26.2    control     old_page          1              0   \n",
       "...         ...       ...        ...          ...        ...            ...   \n",
       "288537   945152   51:57.1    control     old_page          0              0   \n",
       "288538   734608   45:03.4    control     old_page          0              0   \n",
       "288539   697314   20:29.0    control     old_page          0              0   \n",
       "288540   715931   40:24.5  treatment     new_page          0              1   \n",
       "288541   643532   40:24.5  treatment     new_page          0              1   \n",
       "\n",
       "       country  \n",
       "0           US  \n",
       "1           US  \n",
       "2           US  \n",
       "3           US  \n",
       "4           US  \n",
       "...        ...  \n",
       "288537      US  \n",
       "288538      US  \n",
       "288539      US  \n",
       "288540      UK  \n",
       "288541      US  \n",
       "\n",
       "[288542 rows x 7 columns]"
      ]
     },
     "execution_count": 13,
     "metadata": {},
     "output_type": "execute_result"
    }
   ],
   "source": [
    "# merge country\n",
    "\n",
    "df_clean = df_clean.merge(countries, on=\"user_id\", how=\"left\")  \n",
    "#df_clean = df_clean.drop(columns=[col for col in df_clean.columns if \"country_\" in col], errors=\"ignore\")\n",
    "\n",
    "df_clean"
   ]
  },
  {
   "cell_type": "code",
   "execution_count": 14,
   "id": "3240bea9",
   "metadata": {},
   "outputs": [
    {
     "name": "stdout",
     "output_type": "stream",
     "text": [
      "Unique countries: ['US' 'CA' 'UK']\n",
      "Total number of unique countries: 3\n"
     ]
    }
   ],
   "source": [
    "\n",
    "# add new feature\"country\"\n",
    "unique_countries = df_clean['country'].unique()\n",
    "print(\"Unique countries:\", unique_countries)\n",
    "print(\"Total number of unique countries:\", len(unique_countries))\n"
   ]
  },
  {
   "cell_type": "code",
   "execution_count": 15,
   "id": "4279af0b",
   "metadata": {},
   "outputs": [],
   "source": [
    "# one-hot encoding(change countries name to a single code num)\n",
    "df_clean = pd.get_dummies(df_clean, columns=['country'], drop_first=True)\n",
    "#to aviod Multicollinearity, drop Country_CA, if country_UK is +, conversion rate higher than CA\n"
   ]
  },
  {
   "cell_type": "code",
   "execution_count": 17,
   "id": "e82b5d20",
   "metadata": {},
   "outputs": [
    {
     "name": "stdout",
     "output_type": "stream",
     "text": [
      "Index(['user_id', 'timestamp', 'group', 'landing_page', 'converted',\n",
      "       'group_numeric', 'country_UK', 'country_US'],\n",
      "      dtype='object')\n"
     ]
    }
   ],
   "source": [
    "print(df_clean.columns)\n"
   ]
  },
  {
   "cell_type": "code",
   "execution_count": 16,
   "id": "6ab612e3",
   "metadata": {},
   "outputs": [
    {
     "data": {
      "text/html": [
       "<div>\n",
       "<style scoped>\n",
       "    .dataframe tbody tr th:only-of-type {\n",
       "        vertical-align: middle;\n",
       "    }\n",
       "\n",
       "    .dataframe tbody tr th {\n",
       "        vertical-align: top;\n",
       "    }\n",
       "\n",
       "    .dataframe thead th {\n",
       "        text-align: right;\n",
       "    }\n",
       "</style>\n",
       "<table border=\"1\" class=\"dataframe\">\n",
       "  <thead>\n",
       "    <tr style=\"text-align: right;\">\n",
       "      <th></th>\n",
       "      <th>user_id</th>\n",
       "      <th>timestamp</th>\n",
       "      <th>group</th>\n",
       "      <th>landing_page</th>\n",
       "      <th>converted</th>\n",
       "      <th>group_numeric</th>\n",
       "      <th>country_UK</th>\n",
       "      <th>country_US</th>\n",
       "    </tr>\n",
       "  </thead>\n",
       "  <tbody>\n",
       "    <tr>\n",
       "      <th>0</th>\n",
       "      <td>851104</td>\n",
       "      <td>11:48.6</td>\n",
       "      <td>control</td>\n",
       "      <td>old_page</td>\n",
       "      <td>0</td>\n",
       "      <td>0</td>\n",
       "      <td>0</td>\n",
       "      <td>1</td>\n",
       "    </tr>\n",
       "    <tr>\n",
       "      <th>1</th>\n",
       "      <td>804228</td>\n",
       "      <td>01:45.2</td>\n",
       "      <td>control</td>\n",
       "      <td>old_page</td>\n",
       "      <td>0</td>\n",
       "      <td>0</td>\n",
       "      <td>0</td>\n",
       "      <td>1</td>\n",
       "    </tr>\n",
       "    <tr>\n",
       "      <th>2</th>\n",
       "      <td>661590</td>\n",
       "      <td>55:06.2</td>\n",
       "      <td>treatment</td>\n",
       "      <td>new_page</td>\n",
       "      <td>0</td>\n",
       "      <td>1</td>\n",
       "      <td>0</td>\n",
       "      <td>1</td>\n",
       "    </tr>\n",
       "    <tr>\n",
       "      <th>3</th>\n",
       "      <td>853541</td>\n",
       "      <td>28:03.1</td>\n",
       "      <td>treatment</td>\n",
       "      <td>new_page</td>\n",
       "      <td>0</td>\n",
       "      <td>1</td>\n",
       "      <td>0</td>\n",
       "      <td>1</td>\n",
       "    </tr>\n",
       "    <tr>\n",
       "      <th>4</th>\n",
       "      <td>864975</td>\n",
       "      <td>52:26.2</td>\n",
       "      <td>control</td>\n",
       "      <td>old_page</td>\n",
       "      <td>1</td>\n",
       "      <td>0</td>\n",
       "      <td>0</td>\n",
       "      <td>1</td>\n",
       "    </tr>\n",
       "    <tr>\n",
       "      <th>...</th>\n",
       "      <td>...</td>\n",
       "      <td>...</td>\n",
       "      <td>...</td>\n",
       "      <td>...</td>\n",
       "      <td>...</td>\n",
       "      <td>...</td>\n",
       "      <td>...</td>\n",
       "      <td>...</td>\n",
       "    </tr>\n",
       "    <tr>\n",
       "      <th>288537</th>\n",
       "      <td>945152</td>\n",
       "      <td>51:57.1</td>\n",
       "      <td>control</td>\n",
       "      <td>old_page</td>\n",
       "      <td>0</td>\n",
       "      <td>0</td>\n",
       "      <td>0</td>\n",
       "      <td>1</td>\n",
       "    </tr>\n",
       "    <tr>\n",
       "      <th>288538</th>\n",
       "      <td>734608</td>\n",
       "      <td>45:03.4</td>\n",
       "      <td>control</td>\n",
       "      <td>old_page</td>\n",
       "      <td>0</td>\n",
       "      <td>0</td>\n",
       "      <td>0</td>\n",
       "      <td>1</td>\n",
       "    </tr>\n",
       "    <tr>\n",
       "      <th>288539</th>\n",
       "      <td>697314</td>\n",
       "      <td>20:29.0</td>\n",
       "      <td>control</td>\n",
       "      <td>old_page</td>\n",
       "      <td>0</td>\n",
       "      <td>0</td>\n",
       "      <td>0</td>\n",
       "      <td>1</td>\n",
       "    </tr>\n",
       "    <tr>\n",
       "      <th>288540</th>\n",
       "      <td>715931</td>\n",
       "      <td>40:24.5</td>\n",
       "      <td>treatment</td>\n",
       "      <td>new_page</td>\n",
       "      <td>0</td>\n",
       "      <td>1</td>\n",
       "      <td>1</td>\n",
       "      <td>0</td>\n",
       "    </tr>\n",
       "    <tr>\n",
       "      <th>288541</th>\n",
       "      <td>643532</td>\n",
       "      <td>40:24.5</td>\n",
       "      <td>treatment</td>\n",
       "      <td>new_page</td>\n",
       "      <td>0</td>\n",
       "      <td>1</td>\n",
       "      <td>0</td>\n",
       "      <td>1</td>\n",
       "    </tr>\n",
       "  </tbody>\n",
       "</table>\n",
       "<p>288542 rows × 8 columns</p>\n",
       "</div>"
      ],
      "text/plain": [
       "        user_id timestamp      group landing_page  converted  group_numeric  \\\n",
       "0        851104   11:48.6    control     old_page          0              0   \n",
       "1        804228   01:45.2    control     old_page          0              0   \n",
       "2        661590   55:06.2  treatment     new_page          0              1   \n",
       "3        853541   28:03.1  treatment     new_page          0              1   \n",
       "4        864975   52:26.2    control     old_page          1              0   \n",
       "...         ...       ...        ...          ...        ...            ...   \n",
       "288537   945152   51:57.1    control     old_page          0              0   \n",
       "288538   734608   45:03.4    control     old_page          0              0   \n",
       "288539   697314   20:29.0    control     old_page          0              0   \n",
       "288540   715931   40:24.5  treatment     new_page          0              1   \n",
       "288541   643532   40:24.5  treatment     new_page          0              1   \n",
       "\n",
       "        country_UK  country_US  \n",
       "0                0           1  \n",
       "1                0           1  \n",
       "2                0           1  \n",
       "3                0           1  \n",
       "4                0           1  \n",
       "...            ...         ...  \n",
       "288537           0           1  \n",
       "288538           0           1  \n",
       "288539           0           1  \n",
       "288540           1           0  \n",
       "288541           0           1  \n",
       "\n",
       "[288542 rows x 8 columns]"
      ]
     },
     "execution_count": 16,
     "metadata": {},
     "output_type": "execute_result"
    }
   ],
   "source": [
    "df_clean"
   ]
  },
  {
   "cell_type": "code",
   "execution_count": 18,
   "id": "6c1488c9",
   "metadata": {},
   "outputs": [
    {
     "name": "stdout",
     "output_type": "stream",
     "text": [
      "Optimization terminated successfully.\n",
      "         Current function value: 0.365935\n",
      "         Iterations 6\n",
      "                          Results: Logit\n",
      "==================================================================\n",
      "Model:              Logit            Pseudo R-squared: 0.000      \n",
      "Dependent Variable: converted        AIC:              211183.0327\n",
      "Date:               2025-03-19 16:49 BIC:              211225.3231\n",
      "No. Observations:   288542           Log-Likelihood:   -1.0559e+05\n",
      "Df Model:           3                LL-Null:          -1.0559e+05\n",
      "Df Residuals:       288538           LLR p-value:      0.18417    \n",
      "Converged:          1.0000           Scale:            1.0000     \n",
      "No. Iterations:     6.0000                                        \n",
      "------------------------------------------------------------------\n",
      "                   Coef.  Std.Err.    z     P>|z|   [0.025  0.975]\n",
      "------------------------------------------------------------------\n",
      "const             -2.0307   0.0267 -75.9752 0.0000 -2.0831 -1.9783\n",
      "group_numeric     -0.0148   0.0115  -1.2913 0.1966 -0.0373  0.0077\n",
      "country_UK         0.0503   0.0285   1.7651 0.0775 -0.0056  0.1062\n",
      "country_US         0.0405   0.0270   1.5015 0.1332 -0.0124  0.0934\n",
      "==================================================================\n",
      "\n"
     ]
    }
   ],
   "source": [
    "# Logistics regression\n",
    "# X group_numeric + country\n",
    "X = df_clean[['group_numeric'] + [col for col in df_clean.columns if 'country_' in col]]\n",
    "X = sm.add_constant(X)  \n",
    "\n",
    "# y\n",
    "y = df_clean['converted']\n",
    "\n",
    "\n",
    "logit_model_adv = sm.Logit(y, X).fit()\n",
    "#print(logit_model_adv.summary())\n",
    "print(logit_model_adv.summary2(float_format=\"%.6f\"))\n"
   ]
  },
  {
   "cell_type": "markdown",
   "id": "8b98c3c0",
   "metadata": {},
   "source": [
    "for group_numeric:\n",
    "p-value > 0.05, the new page does not significantly impact conversion rates.\n",
    "No clear improvement or decline, likely due to random variation\n",
    "\n",
    "UK (p = 0.0775): Slightly higher conversion rate than the baseline, but not statistically significant.\n",
    "US (p = 0.1332): No significant difference compared to the baseline.\n",
    "\n",
    "with feature group_num & country the conversion rate is not influenced in statistics saying."
   ]
  },
  {
   "cell_type": "markdown",
   "id": "daf0a055",
   "metadata": {},
   "source": [
    "## Add one more feature Time spend"
   ]
  },
  {
   "cell_type": "code",
   "execution_count": 24,
   "id": "7356399f",
   "metadata": {},
   "outputs": [
    {
     "name": "stdout",
     "output_type": "stream",
     "text": [
      "0    11:48.6\n",
      "1    01:45.2\n",
      "2    55:06.2\n",
      "3    28:03.1\n",
      "4    52:26.2\n",
      "Name: timestamp, dtype: object\n",
      "object\n"
     ]
    }
   ],
   "source": [
    "\n",
    "print(df_clean['timestamp'].head())  \n",
    "print(df_clean['timestamp'].dtype)"
   ]
  },
  {
   "cell_type": "code",
   "execution_count": 25,
   "id": "a95ccae1",
   "metadata": {},
   "outputs": [
    {
     "name": "stdout",
     "output_type": "stream",
     "text": [
      "  timestamp  time_spent\n",
      "0   11:48.6       708.6\n",
      "1   01:45.2       105.2\n",
      "2   55:06.2      3306.2\n",
      "3   28:03.1      1683.1\n",
      "4   52:26.2      3146.2\n"
     ]
    }
   ],
   "source": [
    "def convert_to_seconds(time_str):\n",
    "    parts = time_str.split(\":\")  # [\"hh\", \"mm.ss\"] / [\"mm\", \"ss\"]\n",
    "    \n",
    "    if len(parts) == 3: \n",
    "        hours, minutes, seconds = int(parts[0]), int(parts[1]), float(parts[2])\n",
    "    elif len(parts) == 2:  \n",
    "        hours, minutes, seconds = 0, int(parts[0]), float(parts[1])\n",
    "    else:\n",
    "        return None  \n",
    "\n",
    "    return hours * 3600 + minutes * 60 + seconds  # to second\n",
    "\n",
    "df_clean['time_spent'] = df_clean['timestamp'].astype(str).apply(convert_to_seconds)\n",
    "\n",
    "print(df_clean[['timestamp', 'time_spent']].head())\n"
   ]
  },
  {
   "cell_type": "code",
   "execution_count": 27,
   "id": "4b25e1e3",
   "metadata": {
    "scrolled": true
   },
   "outputs": [
    {
     "data": {
      "text/html": [
       "<div>\n",
       "<style scoped>\n",
       "    .dataframe tbody tr th:only-of-type {\n",
       "        vertical-align: middle;\n",
       "    }\n",
       "\n",
       "    .dataframe tbody tr th {\n",
       "        vertical-align: top;\n",
       "    }\n",
       "\n",
       "    .dataframe thead th {\n",
       "        text-align: right;\n",
       "    }\n",
       "</style>\n",
       "<table border=\"1\" class=\"dataframe\">\n",
       "  <thead>\n",
       "    <tr style=\"text-align: right;\">\n",
       "      <th></th>\n",
       "      <th>user_id</th>\n",
       "      <th>timestamp</th>\n",
       "      <th>group</th>\n",
       "      <th>landing_page</th>\n",
       "      <th>converted</th>\n",
       "      <th>group_numeric</th>\n",
       "      <th>country_UK</th>\n",
       "      <th>country_US</th>\n",
       "      <th>time_spent</th>\n",
       "    </tr>\n",
       "  </thead>\n",
       "  <tbody>\n",
       "    <tr>\n",
       "      <th>0</th>\n",
       "      <td>851104</td>\n",
       "      <td>11:48.6</td>\n",
       "      <td>control</td>\n",
       "      <td>old_page</td>\n",
       "      <td>0</td>\n",
       "      <td>0</td>\n",
       "      <td>0</td>\n",
       "      <td>1</td>\n",
       "      <td>708.6</td>\n",
       "    </tr>\n",
       "    <tr>\n",
       "      <th>1</th>\n",
       "      <td>804228</td>\n",
       "      <td>01:45.2</td>\n",
       "      <td>control</td>\n",
       "      <td>old_page</td>\n",
       "      <td>0</td>\n",
       "      <td>0</td>\n",
       "      <td>0</td>\n",
       "      <td>1</td>\n",
       "      <td>105.2</td>\n",
       "    </tr>\n",
       "    <tr>\n",
       "      <th>2</th>\n",
       "      <td>661590</td>\n",
       "      <td>55:06.2</td>\n",
       "      <td>treatment</td>\n",
       "      <td>new_page</td>\n",
       "      <td>0</td>\n",
       "      <td>1</td>\n",
       "      <td>0</td>\n",
       "      <td>1</td>\n",
       "      <td>3306.2</td>\n",
       "    </tr>\n",
       "    <tr>\n",
       "      <th>3</th>\n",
       "      <td>853541</td>\n",
       "      <td>28:03.1</td>\n",
       "      <td>treatment</td>\n",
       "      <td>new_page</td>\n",
       "      <td>0</td>\n",
       "      <td>1</td>\n",
       "      <td>0</td>\n",
       "      <td>1</td>\n",
       "      <td>1683.1</td>\n",
       "    </tr>\n",
       "    <tr>\n",
       "      <th>4</th>\n",
       "      <td>864975</td>\n",
       "      <td>52:26.2</td>\n",
       "      <td>control</td>\n",
       "      <td>old_page</td>\n",
       "      <td>1</td>\n",
       "      <td>0</td>\n",
       "      <td>0</td>\n",
       "      <td>1</td>\n",
       "      <td>3146.2</td>\n",
       "    </tr>\n",
       "    <tr>\n",
       "      <th>...</th>\n",
       "      <td>...</td>\n",
       "      <td>...</td>\n",
       "      <td>...</td>\n",
       "      <td>...</td>\n",
       "      <td>...</td>\n",
       "      <td>...</td>\n",
       "      <td>...</td>\n",
       "      <td>...</td>\n",
       "      <td>...</td>\n",
       "    </tr>\n",
       "    <tr>\n",
       "      <th>288537</th>\n",
       "      <td>945152</td>\n",
       "      <td>51:57.1</td>\n",
       "      <td>control</td>\n",
       "      <td>old_page</td>\n",
       "      <td>0</td>\n",
       "      <td>0</td>\n",
       "      <td>0</td>\n",
       "      <td>1</td>\n",
       "      <td>3117.1</td>\n",
       "    </tr>\n",
       "    <tr>\n",
       "      <th>288538</th>\n",
       "      <td>734608</td>\n",
       "      <td>45:03.4</td>\n",
       "      <td>control</td>\n",
       "      <td>old_page</td>\n",
       "      <td>0</td>\n",
       "      <td>0</td>\n",
       "      <td>0</td>\n",
       "      <td>1</td>\n",
       "      <td>2703.4</td>\n",
       "    </tr>\n",
       "    <tr>\n",
       "      <th>288539</th>\n",
       "      <td>697314</td>\n",
       "      <td>20:29.0</td>\n",
       "      <td>control</td>\n",
       "      <td>old_page</td>\n",
       "      <td>0</td>\n",
       "      <td>0</td>\n",
       "      <td>0</td>\n",
       "      <td>1</td>\n",
       "      <td>1229.0</td>\n",
       "    </tr>\n",
       "    <tr>\n",
       "      <th>288540</th>\n",
       "      <td>715931</td>\n",
       "      <td>40:24.5</td>\n",
       "      <td>treatment</td>\n",
       "      <td>new_page</td>\n",
       "      <td>0</td>\n",
       "      <td>1</td>\n",
       "      <td>1</td>\n",
       "      <td>0</td>\n",
       "      <td>2424.5</td>\n",
       "    </tr>\n",
       "    <tr>\n",
       "      <th>288541</th>\n",
       "      <td>643532</td>\n",
       "      <td>40:24.5</td>\n",
       "      <td>treatment</td>\n",
       "      <td>new_page</td>\n",
       "      <td>0</td>\n",
       "      <td>1</td>\n",
       "      <td>0</td>\n",
       "      <td>1</td>\n",
       "      <td>2424.5</td>\n",
       "    </tr>\n",
       "  </tbody>\n",
       "</table>\n",
       "<p>288542 rows × 9 columns</p>\n",
       "</div>"
      ],
      "text/plain": [
       "        user_id timestamp      group landing_page  converted  group_numeric  \\\n",
       "0        851104   11:48.6    control     old_page          0              0   \n",
       "1        804228   01:45.2    control     old_page          0              0   \n",
       "2        661590   55:06.2  treatment     new_page          0              1   \n",
       "3        853541   28:03.1  treatment     new_page          0              1   \n",
       "4        864975   52:26.2    control     old_page          1              0   \n",
       "...         ...       ...        ...          ...        ...            ...   \n",
       "288537   945152   51:57.1    control     old_page          0              0   \n",
       "288538   734608   45:03.4    control     old_page          0              0   \n",
       "288539   697314   20:29.0    control     old_page          0              0   \n",
       "288540   715931   40:24.5  treatment     new_page          0              1   \n",
       "288541   643532   40:24.5  treatment     new_page          0              1   \n",
       "\n",
       "        country_UK  country_US  time_spent  \n",
       "0                0           1       708.6  \n",
       "1                0           1       105.2  \n",
       "2                0           1      3306.2  \n",
       "3                0           1      1683.1  \n",
       "4                0           1      3146.2  \n",
       "...            ...         ...         ...  \n",
       "288537           0           1      3117.1  \n",
       "288538           0           1      2703.4  \n",
       "288539           0           1      1229.0  \n",
       "288540           1           0      2424.5  \n",
       "288541           0           1      2424.5  \n",
       "\n",
       "[288542 rows x 9 columns]"
      ]
     },
     "execution_count": 27,
     "metadata": {},
     "output_type": "execute_result"
    }
   ],
   "source": [
    "df_clean"
   ]
  },
  {
   "cell_type": "code",
   "execution_count": 28,
   "id": "40b55b7d",
   "metadata": {},
   "outputs": [
    {
     "name": "stdout",
     "output_type": "stream",
     "text": [
      "Optimization terminated successfully.\n",
      "         Current function value: 0.365934\n",
      "         Iterations 6\n",
      "                          Results: Logit\n",
      "==================================================================\n",
      "Model:              Logit            Pseudo R-squared: 0.000      \n",
      "Dependent Variable: converted        AIC:              211184.6460\n",
      "Date:               2025-03-19 17:25 BIC:              211237.5090\n",
      "No. Observations:   288542           Log-Likelihood:   -1.0559e+05\n",
      "Df Model:           4                LL-Null:          -1.0559e+05\n",
      "Df Residuals:       288537           LLR p-value:      0.26515    \n",
      "Converged:          1.0000           Scale:            1.0000     \n",
      "No. Iterations:     6.0000                                        \n",
      "------------------------------------------------------------------\n",
      "                   Coef.  Std.Err.    z     P>|z|   [0.025  0.975]\n",
      "------------------------------------------------------------------\n",
      "const             -2.0245   0.0285 -70.9395 0.0000 -2.0804 -1.9685\n",
      "group_numeric     -0.0148   0.0115  -1.2923 0.1962 -0.0373  0.0077\n",
      "country_UK         0.0503   0.0285   1.7644 0.0777 -0.0056  0.1062\n",
      "country_US         0.0405   0.0270   1.5005 0.1335 -0.0124  0.0934\n",
      "time_spent        -0.0000   0.0000  -0.6219 0.5340 -0.0000  0.0000\n",
      "==================================================================\n",
      "\n"
     ]
    }
   ],
   "source": [
    "X = df_clean[['group_numeric', 'country_UK', 'country_US', 'time_spent']]\n",
    "X = sm.add_constant(X)  \n",
    "\n",
    "#y\n",
    "y = df_clean['converted']\n",
    "\n",
    "logit_model_time = sm.Logit(y, X).fit()\n",
    "print(logit_model_time.summary2(float_format=\"%.6f\"))"
   ]
  },
  {
   "cell_type": "markdown",
   "id": "0ebd1063",
   "metadata": {},
   "source": [
    "p value for time spent is 0.534 >> 0.05 there is no significant influence on conversion rate"
   ]
  },
  {
   "cell_type": "code",
   "execution_count": 29,
   "id": "4e21d6d0",
   "metadata": {},
   "outputs": [
    {
     "data": {
      "image/png": "[encoded data removed]",
      "text/plain": [
       "<Figure size 800x500 with 1 Axes>"
      ]
     },
     "metadata": {},
     "output_type": "display_data"
    }
   ],
   "source": [
    "import seaborn as sns\n",
    "import matplotlib.pyplot as plt\n",
    "\n",
    "plt.figure(figsize=(8,5))\n",
    "sns.boxplot(x=df_clean['converted'], y=df_clean['time_spent'])\n",
    "plt.xlabel(\"Converted (0 = No, 1 = Yes)\")\n",
    "plt.ylabel(\"Time Spent (seconds)\")\n",
    "plt.title(\"Distribution of Time Spent by Conversion Status\")\n",
    "plt.show()"
   ]
  },
  {
   "cell_type": "code",
   "execution_count": 33,
   "id": "c3010a45",
   "metadata": {},
   "outputs": [
    {
     "name": "stdout",
     "output_type": "stream",
     "text": [
      "Accuracy: 0.7379611499072934\n",
      "Classification Report:\n",
      "               precision    recall  f1-score   support\n",
      "\n",
      "           0       0.88      0.81      0.85     50759\n",
      "           1       0.12      0.18      0.14      6950\n",
      "\n",
      "    accuracy                           0.74     57709\n",
      "   macro avg       0.50      0.50      0.49     57709\n",
      "weighted avg       0.79      0.74      0.76     57709\n",
      "\n"
     ]
    }
   ],
   "source": [
    "#try other algorithms Random forest\n",
    "from sklearn.ensemble import RandomForestClassifier\n",
    "from sklearn.model_selection import train_test_split\n",
    "from sklearn.metrics import accuracy_score, classification_report\n",
    "\n",
    "# X,Y independent&dependent variable\n",
    "X = df_clean[['group_numeric', 'country_UK', 'country_US', 'time_spent']]\n",
    "y = df_clean['converted']\n",
    "\n",
    "# training & test set\n",
    "X_train, X_test, y_train, y_test = train_test_split(X, y, test_size=0.2, random_state=42)\n",
    "\n",
    "rf_model = RandomForestClassifier(n_estimators=100, class_weight = 'balanced',random_state=42)\n",
    "rf_model.fit(X_train, y_train)\n",
    "\n",
    "#prediction\n",
    "y_pred = rf_model.predict(X_test)\n",
    "\n",
    "print(\"Accuracy:\", accuracy_score(y_test, y_pred))\n",
    "print(\"Classification Report:\\n\", classification_report(y_test, y_pred))\n"
   ]
  },
  {
   "cell_type": "code",
   "execution_count": 19,
   "id": "178d713b",
   "metadata": {},
   "outputs": [
    {
     "data": {
      "image/png": "[encoded data removed]",
      "text/plain": [
       "<Figure size 600x400 with 1 Axes>"
      ]
     },
     "metadata": {},
     "output_type": "display_data"
    }
   ],
   "source": [
    "#visualization\n",
    "\n",
    "\n",
    "conversion_rates = df_clean.groupby('group')['converted'].mean()\n",
    "\n",
    "# barplot\n",
    "plt.figure(figsize=(6,4))\n",
    "conversion_rates.plot(kind='bar', color=['skyblue','salmon'])\n",
    "plt.ylabel(\"Conversion Rate\")\n",
    "plt.title(\"Conversion Rate by Group\")\n",
    "plt.ylim(0, max(conversion_rates) + 0.02)\n",
    "\n",
    "for i, v in enumerate(conversion_rates):\n",
    "    plt.text(i, v + 0.005, f\"{v:.2%}\", ha='center')\n",
    "\n",
    "plt.show()\n"
   ]
  },
  {
   "cell_type": "markdown",
   "id": "80bf9618",
   "metadata": {},
   "source": [
    "## Final Conclusion & Business Recommendations\n",
    "#### 1.The A/B test results do not support the full rollout of the new page, as there is no significant impact on conversion rates.\n",
    "#### 2.Country and time spent have no significant effect on conversion.\n",
    "\n",
    "#### 3.Current variables are insufficient to predict conversions, and machine learning models do not significantly improve predictive power."
   ]
  },
  {
   "cell_type": "code",
   "execution_count": null,
   "id": "9c6b60c3",
   "metadata": {},
   "outputs": [],
   "source": []
  },
  {
   "cell_type": "code",
   "execution_count": null,
   "id": "2fa0960e",
   "metadata": {},
   "outputs": [],
   "source": []
  }
 ],
 "metadata": {
  "kernelspec": {
   "display_name": "Python 3 (ipykernel)",
   "language": "python",
   "name": "python3"
  },
  "language_info": {
   "codemirror_mode": {
    "name": "ipython",
    "version": 3
   },
   "file_extension": ".py",
   "mimetype": "text/x-python",
   "name": "python",
   "nbconvert_exporter": "python",
   "pygments_lexer": "ipython3",
   "version": "3.9.16"
  }
 },
 "nbformat": 4,
 "nbformat_minor": 5
}
